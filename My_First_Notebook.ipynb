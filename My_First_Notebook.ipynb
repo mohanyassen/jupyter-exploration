{
  "metadata": {
    "kernelspec": {
      "name": "python",
      "display_name": "Python (Pyodide)",
      "language": "python"
    },
    "language_info": {
      "codemirror_mode": {
        "name": "python",
        "version": 3
      },
      "file_extension": ".py",
      "mimetype": "text/x-python",
      "name": "python",
      "nbconvert_exporter": "python",
      "pygments_lexer": "ipython3",
      "version": "3.8"
    }
  },
  "nbformat_minor": 5,
  "nbformat": 4,
  "cells": [
    {
      "id": "191b8691-c6c4-42ea-af1d-8c294309533b",
      "cell_type": "code",
      "source": "#My first markdown cell in Jupyter.\n",
      "metadata": {
        "trusted": true
      },
      "outputs": [],
      "execution_count": 2
    },
    {
      "id": "d5922390-cd3d-4dc0-a766-5ea4129b24a5",
      "cell_type": "code",
      "source": "print(\"heloo world\")",
      "metadata": {
        "trusted": true
      },
      "outputs": [
        {
          "name": "stdout",
          "output_type": "stream",
          "text": "heloo world\n"
        }
      ],
      "execution_count": 3
    },
    {
      "id": "47cace45-78f9-4048-9545-5a13c9ddd879",
      "cell_type": "code",
      "source": "",
      "metadata": {
        "trusted": true
      },
      "outputs": [],
      "execution_count": null
    }
  ]
}